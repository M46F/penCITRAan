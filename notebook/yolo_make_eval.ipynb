{
 "cells": [
  {
   "cell_type": "code",
   "execution_count": 1,
   "metadata": {},
   "outputs": [
    {
     "name": "stdout",
     "output_type": "stream",
     "text": [
      "STARTO\n"
     ]
    },
    {
     "name": "stderr",
     "output_type": "stream",
     "text": [
      "Using TensorFlow backend.\n"
     ]
    }
   ],
   "source": [
    "print(\"STARTO\")\n",
    "import time\n",
    "import os\n",
    "start_time = time.time()\n",
    "\n",
    "using_gpu = False\n",
    "if not using_gpu:\n",
    "    os.environ[\"CUDA_DEVICE_ORDER\"] = \"PCI_BUS_ID\"   # see issue #152\n",
    "    os.environ[\"CUDA_VISIBLE_DEVICES\"] = \"1,2,3,4,5\"\n",
    "\n",
    "from lib.detector.YOLO.train.trainer import Trainer\n",
    "from lib.detector.YOLO import create_detector_model_from_trained\n",
    "from lib.detector.YOLO import create_training_model_from_detector\n",
    "from lib.detector.YOLO import Yolo"
   ]
  },
  {
   "cell_type": "code",
   "execution_count": 2,
   "metadata": {},
   "outputs": [],
   "source": [
    "# raise ValueError(\"test\")"
   ]
  },
  {
   "cell_type": "code",
   "execution_count": 3,
   "metadata": {},
   "outputs": [
    {
     "name": "stderr",
     "output_type": "stream",
     "text": [
      "/src/keras/engine/saving.py:269: UserWarning: No training configuration found in save file: the model was *not* compiled. Compile it manually.\n",
      "  warnings.warn('No training configuration found in save file: '\n"
     ]
    }
   ],
   "source": [
    "from keras.models import load_model\n",
    "our_ver = load_model('./model_data/yolo.h5')"
   ]
  },
  {
   "cell_type": "code",
   "execution_count": 4,
   "metadata": {},
   "outputs": [],
   "source": [
    "labels = [\n",
    "    'person', 'bicycle', 'car', 'motorbike', 'airplane', 'bus', 'train',\n",
    "    'truck', 'boat', 'traffic light', 'fire hydrant', 'stop sign',\n",
    "    'parking meter', 'bench', 'bird', 'cat', 'dog', 'horse', 'sheep', 'cow',\n",
    "    'elephant', 'bear', 'zebra', 'giraffe', 'backpack', 'umbrella', 'handbag',\n",
    "    'tie', 'suitcase', 'frisbee', 'skis', 'snowboard', 'sports ball', 'kite',\n",
    "    'baseball bat', 'baseball glove', 'skateboard', 'surfboard',\n",
    "    'tennis racket', 'bottle', 'wine glass', 'cup', 'fork', 'knife', 'spoon',\n",
    "    'bowl', 'banana', 'apple', 'sandwich', 'orange', 'broccoli', 'carrot',\n",
    "    'hot dog', 'pizza', 'donut', 'cake', 'chair', 'couch', 'potted plant',\n",
    "    'bed', 'dining table', 'toilet', 'tv', 'laptop', 'mouse', 'remote',\n",
    "    'keyboard', 'cell phone', 'microwave', 'oven', 'toaster', 'sink',\n",
    "    'refrigerator', 'book', 'clock', 'vase', 'scissors', 'teddy bear',\n",
    "    'hair drier', 'toothbrush'\n",
    "]\n",
    "our_yolo = Yolo(labels=labels, yolo_model=our_ver)"
   ]
  },
  {
   "cell_type": "code",
   "execution_count": 5,
   "metadata": {},
   "outputs": [],
   "source": [
    "import numpy as np\n",
    "import json\n",
    "with open('./train_val_config/ua_voc_4.json', 'r') as fp:\n",
    "    data = json.load(fp)\n",
    "    train_imgs = data['train']\n",
    "    valid_imgs = data['val']"
   ]
  },
  {
   "cell_type": "code",
   "execution_count": 6,
   "metadata": {},
   "outputs": [],
   "source": [
    "import cv2\n",
    "# \"boxes\":[], \"scores\":[]\n",
    "labels = ['bicycle','bus','car','motorbike']\n",
    "tests = valid_imgs\n",
    "gt_boxes = {label:{test['filename']:[] for test in tests} for label in labels}\n",
    "pred_boxes = {label:{test['filename']:{} for test in tests} for label in labels}\n",
    "from pprint import pprint\n",
    "\n",
    "for _dat in valid_imgs:\n",
    "    key = _dat['filename']\n",
    "    for obj in _dat['object']:\n",
    "        gt_boxes[obj['name']][key].append([obj['xmin'], obj['ymin'], obj['xmax'], obj['ymax']])\n",
    "\n",
    "    _img = cv2.imread(key)\n",
    "    rgb_img = cv2.cvtColor(_img, cv2.COLOR_BGR2RGB)\n",
    "#     obj['ymin'], obj['xmin'], obj['ymax'], obj['xmax']\n",
    "    results = our_yolo.get_localization(rgb_img, \n",
    "                              result_mapping={\n",
    "                                  1: 'bicycle',\n",
    "                                  5: 'bus',\n",
    "                                  2: 'car',\n",
    "                                  3: 'motorbike'\n",
    "                              },\n",
    "                              score_threshold=0.25,\n",
    "                              class_threshold={\n",
    "                                  'bicycle': 0.25,\n",
    "                                  'bus': 0.25,\n",
    "                                  'car': 0.25,\n",
    "                                  'motorbike': 0.25\n",
    "                              },\n",
    "                              special_mode=False\n",
    "                            )\n",
    "    for cls_name in results:\n",
    "        pred_boxes[cls_name][key]['boxes'] = []\n",
    "        for box in results[cls_name]['boxes']:\n",
    "            pred_boxes[cls_name][key]['boxes'].append([box[1], box[0], box[3], box[2]])\n",
    "        pred_boxes[cls_name][key]['scores'] = results[cls_name]['scores']"
   ]
  },
  {
   "cell_type": "code",
   "execution_count": 7,
   "metadata": {},
   "outputs": [],
   "source": [
    "# gt_boxes = {label:{test['filename']:[] for test in tests} for label in labels}\n",
    "# pred_boxes = {label:{test['filename']:{} for test in tests} for label in labels}\n",
    "import json\n",
    "\n",
    "def myconverter(o):\n",
    "    if isinstance(o, np.float32):\n",
    "        return float(o)\n",
    "    \n",
    "with open('gt_boxes_yolo.json', 'w') as outfile:\n",
    "    json.dump(gt_boxes, outfile, default=myconverter)\n",
    "with open('pred_boxes_yolo.json', 'w') as outfile:\n",
    "    json.dump(pred_boxes, outfile, default=myconverter)"
   ]
  },
  {
   "cell_type": "code",
   "execution_count": 8,
   "metadata": {},
   "outputs": [],
   "source": [
    "!mv gt_boxes_yolo.json analysis/gt_boxes_yolo.json\n",
    "!mv pred_boxes_yolo.json analysis/pred_boxes_yolo.json"
   ]
  }
 ],
 "metadata": {
  "kernelspec": {
   "display_name": "Python 3",
   "language": "python",
   "name": "python3"
  },
  "language_info": {
   "codemirror_mode": {
    "name": "ipython",
    "version": 3
   },
   "file_extension": ".py",
   "mimetype": "text/x-python",
   "name": "python",
   "nbconvert_exporter": "python",
   "pygments_lexer": "ipython3",
   "version": "3.6.5"
  }
 },
 "nbformat": 4,
 "nbformat_minor": 2
}
